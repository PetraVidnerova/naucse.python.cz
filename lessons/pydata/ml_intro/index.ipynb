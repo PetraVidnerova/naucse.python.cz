{
 "cells": [
  {
   "cell_type": "markdown",
   "metadata": {},
   "source": [
    "#  Úvod do strojového učení  \n",
    "##  Základní pojmy\n"
   ]
  },
  {
   "cell_type": "markdown",
   "metadata": {},
   "source": [
    "+  **Strojové učení** (*Machine Learning*)\n",
    "   \n",
    "   Pojem *strojové učení* označuje algoritmy a modely, které umožňují počítači se samostatně učit. To typicky znamená,   \n",
    "   odvodit si nějaké závislosti z předložených dat nebo zdokonalovat své chování na základě interakce s okolím.\n",
    "   V oblasti datové analýzy chápeme strojové učení zejména jako nástroj na vytváření modelů (z) dat.\n",
    "\n",
    "   Pozn.: Český překlad *strojové učení* není přesný, jedná o učení strojů, nikoli o strojové (automatizované) učení.\n",
    "   \n",
    "   \n",
    "+ **Základní typy algoritmů strojového učení** \n",
    "\n",
    "  + **Učení s učitelem** (*Supervised learning*)\n",
    "  + **Učení bez učitele** (*Unsupervised learning*)\n",
    "  + **Zpětnovazebné učení** (*Reinforcement learning*) [zpětnovazebné učení je nad rámec tohoto kurzu]\n",
    "   \n",
    "  \n",
    "+  **Učení s učitelem** \n",
    "\n",
    "  Učení se jmenuje s učitelem proto, že učící algoritmus dostane vždy k dispozici data **včetně požadovaných (správných)\n",
    "  výstupů**. Cílem je modelovat vztah mezi vstupy (vektorem příznaků, features) a výstupy. Naučený model pak umožňuje\n",
    "  pro nový vektor příznaků predikovat hodnotu výstupu.  \n",
    "  Datům, která se používají pro učení, se říká **tréninková množina**. \n",
    "  \n",
    "  Základní dvě úlohy, které spadají pod učení se učitelem, jsou **klasifikace** a **regrese**. \n",
    "  \n",
    "  1. **Klasifikace**  \n",
    "    V klasifikačních úlohách představuje výstup modelu (label) indikátor třídy.\n",
    " \n",
    "  2. **Regrese**\n",
    "    V regresních úlohách je na výstupu modelu spojitá hodnota. \n",
    "    "
   ]
  },
  {
   "cell_type": "markdown",
   "metadata": {},
   "source": [
    "## Příklad klasifikace\n"
   ]
  },
  {
   "cell_type": "markdown",
   "metadata": {},
   "source": [
    "Ukažme si klasifikaci na známé a jednoduché datové množině Iris. Jedná se o klasifikaci květů kostatců, \n",
    "datová množina obsahuje tři třídy Setosa, Versicolor a Virginica. \n",
    "\n",
    "![kosatce ukazka](./static/kosatce.jpeg)\n",
    "\n",
    "Data obsahují 150 vzorků, každý vzorek se sestává ze 4 příznaků a labelu (jedné ze tří tříd).\n",
    "![kosatce data](./static/iris_data.png)"
   ]
  },
  {
   "cell_type": "markdown",
   "metadata": {},
   "source": [
    "**Cílem** klasifikační úlohy je modelovat vztah mezi příznaky \n",
    "(délky a šířky kališního lístku a délky a šířky okvětního lístku) a třídou (versicolor, setosa, virginica). Jinými slovy, vytvořit model -- klasifikátor, který nám pro dané hodnoty kalištních a okvětních lístků vrátí správné zařazení daného vzorku do třídy."
   ]
  },
  {
   "cell_type": "markdown",
   "metadata": {},
   "source": [
    "(Pozn. následující ukázka předpokládá nainstalované scikit-learn.)"
   ]
  },
  {
   "cell_type": "code",
   "execution_count": 1,
   "metadata": {},
   "outputs": [
    {
     "name": "stdout",
     "output_type": "stream",
     "text": [
      "Příznaky:  (150, 4)\n",
      "Třídy:  (150,)\n",
      "První vzor:  [5.1 3.5 1.4 0.2] 0\n"
     ]
    }
   ],
   "source": [
    "from  sklearn import  datasets\n",
    "\n",
    "iris = datasets.load_iris()   # načteme si data, Iris data jsou \"vestavěná\"\n",
    "x = iris.data                 # příznaky \n",
    "y = iris.target               # třídy (labely)     \n",
    "\n",
    "print(\"Příznaky: \", x.shape)\n",
    "print(\"Třídy: \", y.shape)\n",
    "\n",
    "print(\"První vzor: \", x[0], y[0])"
   ]
  },
  {
   "cell_type": "code",
   "execution_count": 2,
   "metadata": {},
   "outputs": [
    {
     "name": "stdout",
     "output_type": "stream",
     "text": [
      "Příznaky trénovací:  (120, 4)\n",
      "Třídy trénovací:  (120,)\n",
      "Příznaky testovací:  (30, 4)\n",
      "Třídy testovací:  (30,)\n"
     ]
    }
   ],
   "source": [
    "# Rozdělme si data na trénovací a testovací \n",
    "from sklearn.model_selection import train_test_split\n",
    "\n",
    "x_train, x_test, y_train, y_test = train_test_split(x, y, test_size=.2)\n",
    "\n",
    "print(\"Příznaky trénovací: \", x_train.shape)\n",
    "print(\"Třídy trénovací: \", y_train.shape)\n",
    "print(\"Příznaky testovací: \", x_test.shape)\n",
    "print(\"Třídy testovací: \", y_test.shape)"
   ]
  },
  {
   "cell_type": "code",
   "execution_count": 3,
   "metadata": {},
   "outputs": [],
   "source": [
    "# Teď vezmeme nějaký klasifikátor a naučíme ho \n",
    "from sklearn import tree\n",
    "\n",
    "classifier=tree.DecisionTreeClassifier()\n",
    "classifier.fit(x_train,y_train)\n",
    "predictions=classifier.predict(x_test)"
   ]
  },
  {
   "cell_type": "code",
   "execution_count": 4,
   "metadata": {},
   "outputs": [
    {
     "name": "stdout",
     "output_type": "stream",
     "text": [
      "Příznaky:            Predikovaná třída:  Skutečná třída:\n",
      "--------------------------------------------------------\n",
      "[6.6 3.  4.4 1.4]     1                   1                  OK\n",
      "[5.  3.6 1.4 0.2]     0                   0                  OK\n",
      "[5.  3.5 1.6 0.6]     0                   0                  OK\n",
      "[6.4 2.8 5.6 2.1]     2                   2                  OK\n",
      "[5.5 2.6 4.4 1.2]     1                   1                  OK\n",
      "[5.1 3.5 1.4 0.2]     0                   0                  OK\n",
      "[5.4 3.7 1.5 0.2]     0                   0                  OK\n",
      "[5.4 3.  4.5 1.5]     1                   1                  OK\n",
      "[5.6 2.9 3.6 1.3]     1                   1                  OK\n",
      "[6.1 2.8 4.7 1.2]     1                   1                  OK\n",
      "[7.7 3.  6.1 2.3]     2                   2                  OK\n",
      "[4.7 3.2 1.6 0.2]     0                   0                  OK\n",
      "[5.  3.5 1.3 0.3]     0                   0                  OK\n",
      "[5.3 3.7 1.5 0.2]     0                   0                  OK\n",
      "[6.3 2.5 5.  1.9]     2                   2                  OK\n",
      "[6.7 2.5 5.8 1.8]     2                   2                  OK\n",
      "[7.1 3.  5.9 2.1]     2                   2                  OK\n",
      "[4.6 3.4 1.4 0.3]     0                   0                  OK\n",
      "[6.7 3.3 5.7 2.1]     2                   2                  OK\n",
      "[6.8 3.2 5.9 2.3]     2                   2                  OK\n",
      "[7.4 2.8 6.1 1.9]     2                   2                  OK\n",
      "[6.8 2.8 4.8 1.4]     1                   1                  OK\n",
      "[4.8 3.  1.4 0.3]     0                   0                  OK\n",
      "[5.5 2.4 3.8 1.1]     1                   1                  OK\n",
      "[6.9 3.1 4.9 1.5]     1                   1                  OK\n",
      "[6.1 3.  4.9 1.8]     2                   2                  OK\n",
      "[5.8 4.  1.2 0.2]     0                   0                  OK\n",
      "[4.9 3.1 1.5 0.2]     0                   0                  OK\n",
      "[5.9 3.2 4.8 1.8]     2                   1                  :(\n",
      "[5.5 2.4 3.7 1. ]     1                   1                  OK\n"
     ]
    }
   ],
   "source": [
    "print(\"Příznaky:            Predikovaná třída:  Skutečná třída:\")\n",
    "print(\"--------------------------------------------------------\")\n",
    "for features, predicted_label, true_label in zip(x_test, predictions, y_test):\n",
    "    print(features, \"   \", predicted_label, \"                 \", true_label, \n",
    "          \"                \", \"OK\" if predicted_label == true_label else \":(\") "
   ]
  },
  {
   "cell_type": "markdown",
   "metadata": {},
   "source": [
    "## Příklad regrese"
   ]
  },
  {
   "cell_type": "code",
   "execution_count": 5,
   "metadata": {},
   "outputs": [],
   "source": [
    "# načtení dat \n",
    "from sklearn import datasets \n",
    "\n",
    "diabetes = datasets.load_diabetes()\n",
    "x = diabetes.data[:, 2].reshape(-1, 1) # změníme shape (442, ) na (442, 1)\n",
    "y = diabetes.target"
   ]
  },
  {
   "cell_type": "code",
   "execution_count": 6,
   "metadata": {},
   "outputs": [
    {
     "data": {
      "text/plain": [
       "<matplotlib.collections.PathCollection at 0x7f53c87f3438>"
      ]
     },
     "execution_count": 6,
     "metadata": {},
     "output_type": "execute_result"
    }
   ],
   "source": [
    "import matplotlib.pyplot as plt \n",
    "\n",
    "plt.scatter(x, y)"
   ]
  },
  {
   "cell_type": "code",
   "execution_count": 7,
   "metadata": {},
   "outputs": [
    {
     "data": {
      "text/plain": [
       "<matplotlib.collections.PathCollection at 0x7f53c8759710>"
      ]
     },
     "execution_count": 7,
     "metadata": {},
     "output_type": "execute_result"
    },
    {
     "data": {
      "image/png": "[encoded data removed]",
      "text/plain": [
       "<Figure size 432x288 with 1 Axes>"
      ]
     },
     "metadata": {
      "needs_background": "light"
     },
     "output_type": "display_data"
    }
   ],
   "source": [
    "# rozdělme data na trénovací a testovací\n",
    "x_train, x_test = x[:-20], x[-20:]\n",
    "y_train, y_test = y[:-20], y[-20:]\n",
    "\n",
    "plt.scatter(x_train, y_train)\n",
    "plt.scatter(x_test, y_test)"
   ]
  },
  {
   "cell_type": "code",
   "execution_count": 8,
   "metadata": {},
   "outputs": [
    {
     "data": {
      "text/plain": [
       "LinearRegression(copy_X=True, fit_intercept=True, n_jobs=None, normalize=False)"
      ]
     },
     "execution_count": 8,
     "metadata": {},
     "output_type": "execute_result"
    }
   ],
   "source": [
    "# volba modelu a natrénování \n",
    "from sklearn import linear_model\n",
    "\n",
    "model = linear_model.LinearRegression()\n",
    "model.fit(x_train, y_train)"
   ]
  },
  {
   "cell_type": "code",
   "execution_count": 9,
   "metadata": {},
   "outputs": [
    {
     "data": {
      "text/plain": [
       "<matplotlib.collections.PathCollection at 0x7f5408a19be0>"
      ]
     },
     "execution_count": 9,
     "metadata": {},
     "output_type": "execute_result"
    },
    {
     "data": {
      "image/png": "[encoded data removed]",
      "text/plain": [
       "<Figure size 432x288 with 1 Axes>"
      ]
     },
     "metadata": {
      "needs_background": "light"
     },
     "output_type": "display_data"
    }
   ],
   "source": [
    "predictions = model.predict(x_test)\n",
    "\n",
    "plt.scatter(x_test, y_test)\n",
    "plt.scatter(x_test, predictions)"
   ]
  },
  {
   "cell_type": "code",
   "execution_count": 10,
   "metadata": {},
   "outputs": [
    {
     "data": {
      "text/plain": [
       "[<matplotlib.lines.Line2D at 0x7f53c7fa2208>]"
      ]
     },
     "execution_count": 10,
     "metadata": {},
     "output_type": "execute_result"
    },
    {
     "data": {
      "image/png": "[encoded data removed]",
      "text/plain": [
       "<Figure size 432x288 with 1 Axes>"
      ]
     },
     "metadata": {
      "needs_background": "light"
     },
     "output_type": "display_data"
    }
   ],
   "source": [
    "predictions = model.predict(x)\n",
    "plt.scatter(x, y)\n",
    "plt.scatter(x, predictions)\n",
    "plt.plot(x, predictions, color=\"red\")"
   ]
  },
  {
   "cell_type": "markdown",
   "metadata": {},
   "source": [
    "<hr>\n"
   ]
  },
  {
   "cell_type": "markdown",
   "metadata": {},
   "source": [
    "Obrázky Iris převzaté z https://medium.com/@jebaseelanravi96/machine-learning-iris-classification-33aa18a4a983 ."
   ]
  },
  {
   "cell_type": "code",
   "execution_count": null,
   "metadata": {},
   "outputs": [],
   "source": []
  }
 ],
 "metadata": {
  "kernelspec": {
   "display_name": "datacourse_env",
   "language": "python",
   "name": "datacourse_env"
  },
  "language_info": {
   "codemirror_mode": {
    "name": "ipython",
    "version": 3
   },
   "file_extension": ".py",
   "mimetype": "text/x-python",
   "name": "python",
   "nbconvert_exporter": "python",
   "pygments_lexer": "ipython3",
   "version": "3.6.8"
  }
 },
 "nbformat": 4,
 "nbformat_minor": 2
}
